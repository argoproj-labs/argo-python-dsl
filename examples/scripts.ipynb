{
 "cells": [
  {
   "cell_type": "markdown",
   "metadata": {
    "toc": true
   },
   "source": [
    "<h1>Table of Contents<span class=\"tocSkip\"></span></h1>\n",
    "<div class=\"toc\"><ul class=\"toc-item\"><li><span><a href=\"#Option-A:-V1alpha1ScriptTemplate\" data-toc-modified-id=\"Option-A:-V1alpha1ScriptTemplate-1\"><span class=\"toc-item-num\">1&nbsp;&nbsp;</span>Option A: <code>V1alpha1ScriptTemplate</code></a></span></li><li><span><a href=\"#Option-B:-closure\" data-toc-modified-id=\"Option-B:-closure-2\"><span class=\"toc-item-num\">2&nbsp;&nbsp;</span>Option B: <code>closure</code></a></span></li></ul></div>"
   ]
  },
  {
   "cell_type": "code",
   "execution_count": 1,
   "metadata": {
    "ExecuteTime": {
     "end_time": "2020-01-16T12:54:36.915772Z",
     "start_time": "2020-01-16T12:54:36.899251Z"
    }
   },
   "outputs": [],
   "source": [
    "%load_ext autoreload\n",
    "%autoreload 2"
   ]
  },
  {
   "cell_type": "code",
   "execution_count": 2,
   "metadata": {
    "ExecuteTime": {
     "end_time": "2020-01-16T12:54:37.342709Z",
     "start_time": "2020-01-16T12:54:36.918236Z"
    }
   },
   "outputs": [],
   "source": [
    "from argo.workflows.dsl import Workflow\n",
    "\n",
    "from argo.workflows.dsl.tasks import *\n",
    "from argo.workflows.dsl.templates import *"
   ]
  },
  {
   "cell_type": "code",
   "execution_count": 3,
   "metadata": {
    "ExecuteTime": {
     "end_time": "2020-01-16T12:54:37.369020Z",
     "start_time": "2020-01-16T12:54:37.346221Z"
    }
   },
   "outputs": [],
   "source": [
    "import yaml\n",
    "\n",
    "from pprint import pprint\n",
    "\n",
    "from argo.workflows.dsl._utils import sanitize_for_serialization"
   ]
  },
  {
   "cell_type": "markdown",
   "metadata": {},
   "source": [
    "---"
   ]
  },
  {
   "cell_type": "code",
   "execution_count": 4,
   "metadata": {
    "ExecuteTime": {
     "end_time": "2020-01-16T12:54:37.523536Z",
     "start_time": "2020-01-16T12:54:37.371882Z"
    }
   },
   "outputs": [],
   "source": [
    "!sh -c '[ -f \"scripts.yaml\" ] || curl -LO https://raw.githubusercontent.com/CermakM/argo-python-dsl/master/examples/scripts.yaml'"
   ]
  },
  {
   "cell_type": "code",
   "execution_count": 5,
   "metadata": {
    "ExecuteTime": {
     "end_time": "2020-01-16T12:54:37.562706Z",
     "start_time": "2020-01-16T12:54:37.526936Z"
    }
   },
   "outputs": [
    {
     "name": "stdout",
     "output_type": "stream",
     "text": [
      "# @file: scripts.yaml\n",
      "apiVersion: argoproj.io/v1alpha1\n",
      "kind: Workflow\n",
      "metadata:\n",
      "  name: scripts-python\n",
      "  generateName: scripts-python-\n",
      "spec:\n",
      "  entrypoint: main\n",
      "  templates:\n",
      "  - name: main\n",
      "    dag:\n",
      "      tasks:\n",
      "      - name: generate\n",
      "        template: gen-random-int\n",
      "      - name: print\n",
      "        template: print-message\n",
      "        arguments:\n",
      "          parameters:\n",
      "          - name: message\n",
      "            value: \"{{steps.generate.outputs.result}}\"\n",
      "        dependencies: [generate]\n",
      "\n",
      "  - name: gen-random-int\n",
      "    script:\n",
      "      image: python:alpine3.6\n",
      "      name: gen-random-int\n",
      "      command: [python]\n",
      "      source: |\n",
      "        import random\n",
      "        i = random.randint(1, 100)\n",
      "        print(i)\n",
      "\n",
      "  - name: print-message\n",
      "    inputs:\n",
      "      parameters:\n",
      "      - name: message\n",
      "    container:\n",
      "      image: alpine:latest\n",
      "      name: print-message\n",
      "      command: [sh, -c]\n",
      "      args: [\"echo result was: {{inputs.parameters.message}}\"]\n",
      "status: {}\n",
      "\n"
     ]
    }
   ],
   "source": [
    "from pathlib import Path\n",
    "\n",
    "manifest = Path(\"./scripts.yaml\").read_text()\n",
    "print(manifest)"
   ]
  },
  {
   "cell_type": "markdown",
   "metadata": {},
   "source": [
    "## Option A: `V1alpha1ScriptTemplate`"
   ]
  },
  {
   "cell_type": "code",
   "execution_count": 6,
   "metadata": {
    "ExecuteTime": {
     "end_time": "2020-01-16T12:54:37.648183Z",
     "start_time": "2020-01-16T12:54:37.566926Z"
    },
    "scrolled": false
   },
   "outputs": [
    {
     "data": {
      "text/plain": [
       "{'api_version': 'argoproj.io/v1alpha1',\n",
       " 'kind': 'Workflow',\n",
       " 'metadata': {'generate_name': 'scripts-python-', 'name': 'scripts-python'},\n",
       " 'spec': {'entrypoint': 'main',\n",
       "          'templates': [{'dag': {'tasks': [{'name': 'generate',\n",
       "                                            'template': 'gen-random-int'},\n",
       "                                           {'arguments': {'parameters': [{'name': 'message',\n",
       "                                                                          'value': '{{steps.generate.outputs.result}}'}]},\n",
       "                                            'dependencies': ['generate'],\n",
       "                                            'name': 'print',\n",
       "                                            'template': 'print-message'}]},\n",
       "                         'name': 'main'},\n",
       "                        {'name': 'gen-random-int',\n",
       "                         'script': {'command': ['python'],\n",
       "                                    'image': 'python:alpine3.6',\n",
       "                                    'name': 'gen-random-int',\n",
       "                                    'source': 'import random\\n'\n",
       "                                              'i = random.randint(1, 100)\\n'\n",
       "                                              'print(i)\\n'}},\n",
       "                        {'container': {'args': ['echo result was: '\n",
       "                                                '{{inputs.parameters.message}}'],\n",
       "                                       'command': ['sh', '-c'],\n",
       "                                       'image': 'alpine:latest',\n",
       "                                       'name': 'print-message'},\n",
       "                         'inputs': {'parameters': [{'name': 'message'}]},\n",
       "                         'name': 'print-message'}]},\n",
       " 'status': {}}"
      ]
     },
     "execution_count": 6,
     "metadata": {},
     "output_type": "execute_result"
    }
   ],
   "source": [
    "import textwrap\n",
    "\n",
    "class ScriptsPython(Workflow):\n",
    "    \n",
    "    @task\n",
    "    def generate(self) -> V1alpha1Template:\n",
    "        return self.gen_random_int()\n",
    "    \n",
    "    @task\n",
    "    @parameter(\n",
    "        name=\"message\",\n",
    "        value=\"{{tasks.generate.outputs.result}}\"\n",
    "    )\n",
    "    @dependencies([\"generate\"])\n",
    "    def print(self, message: str) -> V1alpha1Template:\n",
    "        return self.print_message(message) \n",
    "    \n",
    "    @template\n",
    "    def gen_random_int(self) -> V1alpha1ScriptTemplate:\n",
    "        source = textwrap.dedent(\"\"\"\\\n",
    "          import random\n",
    "          i = random.randint(1, 100)\n",
    "          print(i)\n",
    "        \"\"\")\n",
    "      \n",
    "        template = V1alpha1ScriptTemplate(\n",
    "            image=\"python:alpine3.6\",\n",
    "            name=\"gen-random-int\",\n",
    "            command=[\"python\"],\n",
    "            source=source\n",
    "        )\n",
    "        \n",
    "        return template\n",
    "    \n",
    "    @template\n",
    "    @inputs.parameter(name=\"message\")\n",
    "    def print_message(self, message: str) -> V1Container:\n",
    "        container = V1Container(\n",
    "            image=\"alpine:latest\",\n",
    "            name=\"print-message\",\n",
    "            command=[\"sh\", \"-c\"],\n",
    "            args=[\"echo result was: {{inputs.parameters.message}}\"],\n",
    "        )\n",
    "        \n",
    "        return container\n",
    "    \n",
    "wf = ScriptsPython()\n",
    "wf"
   ]
  },
  {
   "cell_type": "code",
   "execution_count": 7,
   "metadata": {
    "ExecuteTime": {
     "end_time": "2020-01-16T12:54:37.675346Z",
     "start_time": "2020-01-16T12:54:37.650281Z"
    }
   },
   "outputs": [
    {
     "name": "stdout",
     "output_type": "stream",
     "text": [
      "api_version: argoproj.io/v1alpha1\n",
      "kind: Workflow\n",
      "metadata:\n",
      "  generate_name: scripts-python-\n",
      "  name: scripts-python\n",
      "spec:\n",
      "  entrypoint: main\n",
      "  templates:\n",
      "  - dag:\n",
      "      tasks:\n",
      "      - name: generate\n",
      "        template: gen-random-int\n",
      "      - arguments:\n",
      "          parameters:\n",
      "          - name: message\n",
      "            value: '{{steps.generate.outputs.result}}'\n",
      "        dependencies:\n",
      "        - generate\n",
      "        name: print\n",
      "        template: print-message\n",
      "    name: main\n",
      "  - name: gen-random-int\n",
      "    script:\n",
      "      command:\n",
      "      - python\n",
      "      image: python:alpine3.6\n",
      "      name: gen-random-int\n",
      "      source: |-\n",
      "        import random\n",
      "        i = random.randint(1, 100)\n",
      "        print(i)\n",
      "  - container:\n",
      "      args:\n",
      "      - 'echo result was: {{inputs.parameters.message}}'\n",
      "      command:\n",
      "      - sh\n",
      "      - -c\n",
      "      image: alpine:latest\n",
      "      name: print-message\n",
      "    inputs:\n",
      "      parameters:\n",
      "      - name: message\n",
      "    name: print-message\n",
      "status: {}\n",
      "\n"
     ]
    }
   ],
   "source": [
    "print(wf.to_yaml())"
   ]
  },
  {
   "cell_type": "markdown",
   "metadata": {},
   "source": [
    "---"
   ]
  },
  {
   "cell_type": "code",
   "execution_count": 8,
   "metadata": {
    "ExecuteTime": {
     "end_time": "2020-01-16T12:54:37.717720Z",
     "start_time": "2020-01-16T12:54:37.681300Z"
    }
   },
   "outputs": [
    {
     "name": "stdout",
     "output_type": "stream",
     "text": [
      "{'apiVersion': 'argoproj.io/v1alpha1',\n",
      " 'kind': 'Workflow',\n",
      " 'metadata': {'generateName': 'scripts-python-', 'name': 'scripts-python'},\n",
      " 'spec': {'entrypoint': 'main',\n",
      "          'templates': [{'dag': {'tasks': [{'name': 'generate',\n",
      "                                            'template': 'gen-random-int'},\n",
      "                                           {'arguments': {'parameters': [{'name': 'message',\n",
      "                                                                          'value': '{{steps.generate.outputs.result}}'}]},\n",
      "                                            'dependencies': ['generate'],\n",
      "                                            'name': 'print',\n",
      "                                            'template': 'print-message'}]},\n",
      "                         'name': 'main'},\n",
      "                        {'name': 'gen-random-int',\n",
      "                         'script': {'command': ['python'],\n",
      "                                    'image': 'python:alpine3.6',\n",
      "                                    'name': 'gen-random-int',\n",
      "                                    'source': 'import random\\n'\n",
      "                                              'i = random.randint(1, 100)\\n'\n",
      "                                              'print(i)\\n'}},\n",
      "                        {'container': {'args': ['echo result was: '\n",
      "                                                '{{inputs.parameters.message}}'],\n",
      "                                       'command': ['sh', '-c'],\n",
      "                                       'image': 'alpine:latest',\n",
      "                                       'name': 'print-message'},\n",
      "                         'inputs': {'parameters': [{'name': 'message'}]},\n",
      "                         'name': 'print-message'}]},\n",
      " 'status': {}}\n"
     ]
    }
   ],
   "source": [
    "pprint(sanitize_for_serialization(wf))"
   ]
  },
  {
   "cell_type": "code",
   "execution_count": 9,
   "metadata": {
    "ExecuteTime": {
     "end_time": "2020-01-16T12:54:37.780525Z",
     "start_time": "2020-01-16T12:54:37.726466Z"
    }
   },
   "outputs": [
    {
     "name": "stdout",
     "output_type": "stream",
     "text": [
      "{'apiVersion': 'argoproj.io/v1alpha1',\n",
      " 'kind': 'Workflow',\n",
      " 'metadata': {'generateName': 'scripts-python-', 'name': 'scripts-python'},\n",
      " 'spec': {'entrypoint': 'main',\n",
      "          'templates': [{'dag': {'tasks': [{'name': 'generate',\n",
      "                                            'template': 'gen-random-int'},\n",
      "                                           {'arguments': {'parameters': [{'name': 'message',\n",
      "                                                                          'value': '{{steps.generate.outputs.result}}'}]},\n",
      "                                            'dependencies': ['generate'],\n",
      "                                            'name': 'print',\n",
      "                                            'template': 'print-message'}]},\n",
      "                         'name': 'main'},\n",
      "                        {'name': 'gen-random-int',\n",
      "                         'script': {'command': ['python'],\n",
      "                                    'image': 'python:alpine3.6',\n",
      "                                    'name': 'gen-random-int',\n",
      "                                    'source': 'import random\\n'\n",
      "                                              'i = random.randint(1, 100)\\n'\n",
      "                                              'print(i)\\n'}},\n",
      "                        {'container': {'args': ['echo result was: '\n",
      "                                                '{{inputs.parameters.message}}'],\n",
      "                                       'command': ['sh', '-c'],\n",
      "                                       'image': 'alpine:latest',\n",
      "                                       'name': 'print-message'},\n",
      "                         'inputs': {'parameters': [{'name': 'message'}]},\n",
      "                         'name': 'print-message'}]},\n",
      " 'status': {}}\n"
     ]
    }
   ],
   "source": [
    "pprint(yaml.safe_load(manifest))"
   ]
  },
  {
   "cell_type": "code",
   "execution_count": 10,
   "metadata": {
    "ExecuteTime": {
     "end_time": "2020-01-16T12:54:37.846762Z",
     "start_time": "2020-01-16T12:54:37.782681Z"
    }
   },
   "outputs": [
    {
     "data": {
      "text/plain": [
       "{}"
      ]
     },
     "execution_count": 10,
     "metadata": {},
     "output_type": "execute_result"
    }
   ],
   "source": [
    "from deepdiff import DeepDiff\n",
    "\n",
    "diff = DeepDiff(sanitize_for_serialization(wf), yaml.safe_load(manifest))\n",
    "diff"
   ]
  },
  {
   "cell_type": "code",
   "execution_count": 11,
   "metadata": {
    "ExecuteTime": {
     "end_time": "2020-01-16T12:54:37.872990Z",
     "start_time": "2020-01-16T12:54:37.848636Z"
    }
   },
   "outputs": [],
   "source": [
    "assert not diff, \"Manifests don't match.\""
   ]
  },
  {
   "cell_type": "markdown",
   "metadata": {},
   "source": [
    "## Option B: `closure`"
   ]
  },
  {
   "cell_type": "markdown",
   "metadata": {},
   "source": [
    "In a more complicated example, passing around Python scripts gets quite tedious and unnecessary --- we work with Python anyway, so why don't we make use of it?\n",
    "\n",
    "The way we can utilize a function *as is* is to use `clusure`s. A `closure` is a custom construct which hasn't got a counterpart in the Argo specification. It is, however, very useful when working with the Python DSL."
   ]
  },
  {
   "cell_type": "code",
   "execution_count": 12,
   "metadata": {
    "ExecuteTime": {
     "end_time": "2020-01-16T12:54:38.048390Z",
     "start_time": "2020-01-16T12:54:37.877151Z"
    },
    "scrolled": false
   },
   "outputs": [
    {
     "data": {
      "text/plain": [
       "{'api_version': 'argoproj.io/v1alpha1',\n",
       " 'kind': 'Workflow',\n",
       " 'metadata': {'generate_name': 'scripts-python-', 'name': 'scripts-python'},\n",
       " 'spec': {'entrypoint': 'main',\n",
       "          'templates': [{'dag': {'tasks': [{'name': 'generate',\n",
       "                                            'template': 'gen-random-int'},\n",
       "                                           {'arguments': {'parameters': [{'name': 'message',\n",
       "                                                                          'value': '{{steps.generate.outputs.result}}'}]},\n",
       "                                            'dependencies': ['generate'],\n",
       "                                            'name': 'print',\n",
       "                                            'template': 'print-message'}]},\n",
       "                         'name': 'main'},\n",
       "                        {'name': 'gen-random-int',\n",
       "                         'script': {'command': ['python'],\n",
       "                                    'image': 'python:alpine3.6',\n",
       "                                    'name': 'gen-random-int',\n",
       "                                    'source': 'import random\\n'\n",
       "                                              'i = random.randint(1, 100)\\n'\n",
       "                                              'print(i)\\n'}},\n",
       "                        {'container': {'args': ['echo result was: '\n",
       "                                                '{{inputs.parameters.message}}'],\n",
       "                                       'command': ['sh', '-c'],\n",
       "                                       'image': 'alpine:latest',\n",
       "                                       'name': 'print-message'},\n",
       "                         'inputs': {'parameters': [{'name': 'message'}]},\n",
       "                         'name': 'print-message'}]},\n",
       " 'status': {}}"
      ]
     },
     "execution_count": 12,
     "metadata": {},
     "output_type": "execute_result"
    }
   ],
   "source": [
    "import textwrap\n",
    "\n",
    "class ScriptsPython(Workflow):\n",
    "    \n",
    "    @task\n",
    "    def generate(self) -> V1alpha1Template:\n",
    "        return self.gen_random_int()\n",
    "    \n",
    "    @task\n",
    "    @parameter(\n",
    "        name=\"message\",\n",
    "        value=\"{{steps.generate.outputs.result}}\"\n",
    "    )\n",
    "    @dependencies([\"generate\"])\n",
    "    def print(self, message: str) -> V1alpha1Template:\n",
    "        return self.print_message(message) \n",
    "    \n",
    "    # A closure defines its own scope.\n",
    "    # The code below gets trenslated into the same YAML specification as above,\n",
    "    # that is, a `closure` decorator produces a `V1alpha1ScriptTemplate`.\n",
    "    @closure(\n",
    "        image=\"python:alpine3.6\"\n",
    "    )\n",
    "    def gen_random_int():\n",
    "        import random\n",
    "        i = random.randint(1, 100)\n",
    "        print(i)\n",
    "    \n",
    "    @template\n",
    "    @inputs.parameter(name=\"message\")\n",
    "    def print_message(self, message: str) -> V1Container:\n",
    "        container = V1Container(\n",
    "            image=\"alpine:latest\",\n",
    "            name=\"print-message\",\n",
    "            command=[\"sh\", \"-c\"],\n",
    "            args=[\"echo result was: {{inputs.parameters.message}}\"],\n",
    "        )\n",
    "        \n",
    "        return container\n",
    "    \n",
    "wf = ScriptsPython()\n",
    "wf"
   ]
  },
  {
   "cell_type": "code",
   "execution_count": 13,
   "metadata": {
    "ExecuteTime": {
     "end_time": "2020-01-16T12:54:38.094234Z",
     "start_time": "2020-01-16T12:54:38.052871Z"
    }
   },
   "outputs": [
    {
     "name": "stdout",
     "output_type": "stream",
     "text": [
      "api_version: argoproj.io/v1alpha1\n",
      "kind: Workflow\n",
      "metadata:\n",
      "  generate_name: scripts-python-\n",
      "  name: scripts-python\n",
      "spec:\n",
      "  entrypoint: main\n",
      "  templates:\n",
      "  - dag:\n",
      "      tasks:\n",
      "      - name: generate\n",
      "        template: gen-random-int\n",
      "      - arguments:\n",
      "          parameters:\n",
      "          - name: message\n",
      "            value: '{{steps.generate.outputs.result}}'\n",
      "        dependencies:\n",
      "        - generate\n",
      "        name: print\n",
      "        template: print-message\n",
      "    name: main\n",
      "  - name: gen-random-int\n",
      "    script:\n",
      "      command:\n",
      "      - python\n",
      "      image: python:alpine3.6\n",
      "      name: gen-random-int\n",
      "      source: |-\n",
      "        import random\n",
      "        i = random.randint(1, 100)\n",
      "        print(i)\n",
      "  - container:\n",
      "      args:\n",
      "      - 'echo result was: {{inputs.parameters.message}}'\n",
      "      command:\n",
      "      - sh\n",
      "      - -c\n",
      "      image: alpine:latest\n",
      "      name: print-message\n",
      "    inputs:\n",
      "      parameters:\n",
      "      - name: message\n",
      "    name: print-message\n",
      "status: {}\n",
      "\n"
     ]
    }
   ],
   "source": [
    "print(wf.to_yaml())"
   ]
  },
  {
   "cell_type": "markdown",
   "metadata": {},
   "source": [
    "---"
   ]
  },
  {
   "cell_type": "code",
   "execution_count": 14,
   "metadata": {
    "ExecuteTime": {
     "end_time": "2020-01-16T12:54:38.144666Z",
     "start_time": "2020-01-16T12:54:38.098720Z"
    }
   },
   "outputs": [
    {
     "name": "stdout",
     "output_type": "stream",
     "text": [
      "{'apiVersion': 'argoproj.io/v1alpha1',\n",
      " 'kind': 'Workflow',\n",
      " 'metadata': {'generateName': 'scripts-python-', 'name': 'scripts-python'},\n",
      " 'spec': {'entrypoint': 'main',\n",
      "          'templates': [{'dag': {'tasks': [{'name': 'generate',\n",
      "                                            'template': 'gen-random-int'},\n",
      "                                           {'arguments': {'parameters': [{'name': 'message',\n",
      "                                                                          'value': '{{steps.generate.outputs.result}}'}]},\n",
      "                                            'dependencies': ['generate'],\n",
      "                                            'name': 'print',\n",
      "                                            'template': 'print-message'}]},\n",
      "                         'name': 'main'},\n",
      "                        {'name': 'gen-random-int',\n",
      "                         'script': {'command': ['python'],\n",
      "                                    'image': 'python:alpine3.6',\n",
      "                                    'name': 'gen-random-int',\n",
      "                                    'source': 'import random\\n'\n",
      "                                              'i = random.randint(1, 100)\\n'\n",
      "                                              'print(i)\\n'}},\n",
      "                        {'container': {'args': ['echo result was: '\n",
      "                                                '{{inputs.parameters.message}}'],\n",
      "                                       'command': ['sh', '-c'],\n",
      "                                       'image': 'alpine:latest',\n",
      "                                       'name': 'print-message'},\n",
      "                         'inputs': {'parameters': [{'name': 'message'}]},\n",
      "                         'name': 'print-message'}]},\n",
      " 'status': {}}\n"
     ]
    }
   ],
   "source": [
    "pprint(sanitize_for_serialization(wf))"
   ]
  },
  {
   "cell_type": "code",
   "execution_count": 15,
   "metadata": {
    "ExecuteTime": {
     "end_time": "2020-01-16T12:54:38.196340Z",
     "start_time": "2020-01-16T12:54:38.147769Z"
    }
   },
   "outputs": [
    {
     "name": "stdout",
     "output_type": "stream",
     "text": [
      "{'apiVersion': 'argoproj.io/v1alpha1',\n",
      " 'kind': 'Workflow',\n",
      " 'metadata': {'generateName': 'scripts-python-', 'name': 'scripts-python'},\n",
      " 'spec': {'entrypoint': 'main',\n",
      "          'templates': [{'dag': {'tasks': [{'name': 'generate',\n",
      "                                            'template': 'gen-random-int'},\n",
      "                                           {'arguments': {'parameters': [{'name': 'message',\n",
      "                                                                          'value': '{{steps.generate.outputs.result}}'}]},\n",
      "                                            'dependencies': ['generate'],\n",
      "                                            'name': 'print',\n",
      "                                            'template': 'print-message'}]},\n",
      "                         'name': 'main'},\n",
      "                        {'name': 'gen-random-int',\n",
      "                         'script': {'command': ['python'],\n",
      "                                    'image': 'python:alpine3.6',\n",
      "                                    'name': 'gen-random-int',\n",
      "                                    'source': 'import random\\n'\n",
      "                                              'i = random.randint(1, 100)\\n'\n",
      "                                              'print(i)\\n'}},\n",
      "                        {'container': {'args': ['echo result was: '\n",
      "                                                '{{inputs.parameters.message}}'],\n",
      "                                       'command': ['sh', '-c'],\n",
      "                                       'image': 'alpine:latest',\n",
      "                                       'name': 'print-message'},\n",
      "                         'inputs': {'parameters': [{'name': 'message'}]},\n",
      "                         'name': 'print-message'}]},\n",
      " 'status': {}}\n"
     ]
    }
   ],
   "source": [
    "pprint(yaml.safe_load(manifest))"
   ]
  },
  {
   "cell_type": "code",
   "execution_count": 16,
   "metadata": {
    "ExecuteTime": {
     "end_time": "2020-01-16T12:54:38.267467Z",
     "start_time": "2020-01-16T12:54:38.201126Z"
    }
   },
   "outputs": [
    {
     "data": {
      "text/plain": [
       "{}"
      ]
     },
     "execution_count": 16,
     "metadata": {},
     "output_type": "execute_result"
    }
   ],
   "source": [
    "from deepdiff import DeepDiff\n",
    "\n",
    "diff = DeepDiff(sanitize_for_serialization(wf), yaml.safe_load(manifest))\n",
    "diff"
   ]
  },
  {
   "cell_type": "code",
   "execution_count": 17,
   "metadata": {
    "ExecuteTime": {
     "end_time": "2020-01-16T12:54:38.306020Z",
     "start_time": "2020-01-16T12:54:38.271120Z"
    }
   },
   "outputs": [],
   "source": [
    "assert not diff, \"Manifests don't match.\""
   ]
  }
 ],
 "metadata": {
  "finalized": {
   "timestamp": 1579179286193,
   "trusted": true
  },
  "hide_input": false,
  "kernelspec": {
   "display_name": "argo-python-dsl",
   "language": "python",
   "name": "argo-python-dsl"
  },
  "language_info": {
   "codemirror_mode": {
    "name": "ipython",
    "version": 3
   },
   "file_extension": ".py",
   "mimetype": "text/x-python",
   "name": "python",
   "nbconvert_exporter": "python",
   "pygments_lexer": "ipython3",
   "version": "3.6.10"
  },
  "requirements": {
   "aliases": {},
   "dev-packages": {},
   "packages": {
    "argo-workflows": "*",
    "deepdiff": "==4.0.9",
    "inflection": "==0.3.1",
    "pyyaml": "==5.2"
   },
   "requires": {
    "python_version": "3.6"
   },
   "sources": [
    {
     "name": "pypi",
     "url": "https://pypi.org/simple",
     "verify_ssl": true
    }
   ]
  },
  "toc": {
   "base_numbering": 1,
   "nav_menu": {},
   "number_sections": true,
   "sideBar": true,
   "skip_h1_title": true,
   "title_cell": "Table of Contents",
   "title_sidebar": "Contents",
   "toc_cell": true,
   "toc_position": {},
   "toc_section_display": true,
   "toc_window_display": false
  }
 },
 "nbformat": 4,
 "nbformat_minor": 2
}